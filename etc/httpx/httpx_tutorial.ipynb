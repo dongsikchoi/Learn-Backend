{
  "nbformat": 4,
  "nbformat_minor": 0,
  "metadata": {
    "colab": {
      "provenance": [],
      "toc_visible": true
    },
    "kernelspec": {
      "name": "python3",
      "display_name": "Python 3"
    },
    "language_info": {
      "name": "python"
    }
  },
  "cells": [
    {
      "cell_type": "code",
      "execution_count": 1,
      "metadata": {
        "colab": {
          "base_uri": "https://localhost:8080/"
        },
        "id": "-bfV-s1PM70i",
        "outputId": "cef7e73c-c167-4511-8a6b-59167e4b0824"
      },
      "outputs": [
        {
          "output_type": "stream",
          "name": "stdout",
          "text": [
            "Collecting httpx\n",
            "  Downloading httpx-0.24.1-py3-none-any.whl (75 kB)\n",
            "\u001b[?25l     \u001b[90m━━━━━━━━━━━━━━━━━━━━━━━━━━━━━━━━━━━━━━━━\u001b[0m \u001b[32m0.0/75.4 kB\u001b[0m \u001b[31m?\u001b[0m eta \u001b[36m-:--:--\u001b[0m\r\u001b[2K     \u001b[90m━━━━━━━━━━━━━━━━━━━━━━━━━━━━━━━━━━━━━━━━\u001b[0m \u001b[32m75.4/75.4 kB\u001b[0m \u001b[31m2.7 MB/s\u001b[0m eta \u001b[36m0:00:00\u001b[0m\n",
            "\u001b[?25hRequirement already satisfied: certifi in /usr/local/lib/python3.10/dist-packages (from httpx) (2023.7.22)\n",
            "Collecting httpcore<0.18.0,>=0.15.0 (from httpx)\n",
            "  Downloading httpcore-0.17.3-py3-none-any.whl (74 kB)\n",
            "\u001b[2K     \u001b[90m━━━━━━━━━━━━━━━━━━━━━━━━━━━━━━━━━━━━━━━━\u001b[0m \u001b[32m74.5/74.5 kB\u001b[0m \u001b[31m9.2 MB/s\u001b[0m eta \u001b[36m0:00:00\u001b[0m\n",
            "\u001b[?25hRequirement already satisfied: idna in /usr/local/lib/python3.10/dist-packages (from httpx) (3.4)\n",
            "Requirement already satisfied: sniffio in /usr/local/lib/python3.10/dist-packages (from httpx) (1.3.0)\n",
            "Collecting h11<0.15,>=0.13 (from httpcore<0.18.0,>=0.15.0->httpx)\n",
            "  Downloading h11-0.14.0-py3-none-any.whl (58 kB)\n",
            "\u001b[2K     \u001b[90m━━━━━━━━━━━━━━━━━━━━━━━━━━━━━━━━━━━━━━━━\u001b[0m \u001b[32m58.3/58.3 kB\u001b[0m \u001b[31m6.9 MB/s\u001b[0m eta \u001b[36m0:00:00\u001b[0m\n",
            "\u001b[?25hRequirement already satisfied: anyio<5.0,>=3.0 in /usr/local/lib/python3.10/dist-packages (from httpcore<0.18.0,>=0.15.0->httpx) (3.7.1)\n",
            "Requirement already satisfied: exceptiongroup in /usr/local/lib/python3.10/dist-packages (from anyio<5.0,>=3.0->httpcore<0.18.0,>=0.15.0->httpx) (1.1.2)\n",
            "Installing collected packages: h11, httpcore, httpx\n",
            "Successfully installed h11-0.14.0 httpcore-0.17.3 httpx-0.24.1\n"
          ]
        }
      ],
      "source": [
        "!pip install httpx"
      ]
    },
    {
      "cell_type": "markdown",
      "source": [
        "# Compare https with requests"
      ],
      "metadata": {
        "id": "NqGC1HCERZP-"
      }
    },
    {
      "cell_type": "markdown",
      "source": [
        "Reference : https://youtu.be/qAh5dDODJ5k"
      ],
      "metadata": {
        "id": "dxMx7pK_SVAv"
      }
    },
    {
      "cell_type": "markdown",
      "source": [
        "[basic methods]"
      ],
      "metadata": {
        "id": "lVK62K4NRk6o"
      }
    },
    {
      "cell_type": "code",
      "source": [
        "import httpx\n",
        "import requests\n",
        "import time"
      ],
      "metadata": {
        "id": "l_4YJtS_QkP-"
      },
      "execution_count": 1,
      "outputs": []
    },
    {
      "cell_type": "code",
      "source": [
        "def main_requests():\n",
        "  pokemons = []\n",
        "  for number in range(1,151):\n",
        "    pokemon_url = f'https://pokeapi.co/api/v2/pokemon/{number}'\n",
        "    res = requests.get(pokemon_url)\n",
        "    pokemons.append(res.json()['name'])"
      ],
      "metadata": {
        "id": "VGVJDDsaQzL3"
      },
      "execution_count": 2,
      "outputs": []
    },
    {
      "cell_type": "code",
      "source": [
        "start_time = time.time()\n",
        "main_requests()\n",
        "print(f\"Requests: {time.time() - start_time :.2f} seconds.\")"
      ],
      "metadata": {
        "colab": {
          "base_uri": "https://localhost:8080/"
        },
        "id": "lEFMdKewQziX",
        "outputId": "fd558bd0-20e0-4478-85d2-f47d116c24eb"
      },
      "execution_count": 3,
      "outputs": [
        {
          "output_type": "stream",
          "name": "stdout",
          "text": [
            "Requests: 18.56 seconds.\n"
          ]
        }
      ]
    },
    {
      "cell_type": "code",
      "source": [
        "def main_httpx():\n",
        "  pokemons = []\n",
        "  for number in range(1,151):\n",
        "    pokemon_url = f'https://pokeapi.co/api/v2/pokemon/{number}'\n",
        "    res = httpx.get(pokemon_url)\n",
        "    pokemons.append(res.json()['name'])"
      ],
      "metadata": {
        "id": "edmpqic3Q69f"
      },
      "execution_count": 4,
      "outputs": []
    },
    {
      "cell_type": "code",
      "source": [
        "start_time = time.time()\n",
        "main_httpx()\n",
        "print(f\"HTTPX: {time.time() - start_time :.2f} seconds.\")"
      ],
      "metadata": {
        "colab": {
          "base_uri": "https://localhost:8080/"
        },
        "id": "Lq1XD6DIPwpX",
        "outputId": "0adffc3a-881c-4694-ca3b-00fc0941d367"
      },
      "execution_count": 5,
      "outputs": [
        {
          "output_type": "stream",
          "name": "stdout",
          "text": [
            "HTTPX: 17.76 seconds.\n"
          ]
        }
      ]
    },
    {
      "cell_type": "markdown",
      "source": [
        "[Use session - client (httpx)]"
      ],
      "metadata": {
        "id": "bCrqBS4qRsDu"
      }
    },
    {
      "cell_type": "code",
      "source": [
        "def main_requests():\n",
        "  pokemons = []\n",
        "  with requests.Session() as sess:\n",
        "\n",
        "    for number in range(1,151):\n",
        "      pokemon_url = f'https://pokeapi.co/api/v2/pokemon/{number}'\n",
        "      res = sess.get(pokemon_url)\n",
        "      pokemons.append(res.json()['name'])"
      ],
      "metadata": {
        "id": "Fyzy-LV6Rwne"
      },
      "execution_count": 6,
      "outputs": []
    },
    {
      "cell_type": "code",
      "source": [
        "start_time = time.time()\n",
        "main_requests()\n",
        "print(f\"Requests with Session(): {time.time() - start_time :.2f} seconds.\")"
      ],
      "metadata": {
        "colab": {
          "base_uri": "https://localhost:8080/"
        },
        "id": "SrVQwU-URUSM",
        "outputId": "6f89538e-3cc2-4fa8-de5a-b6bb02d06973"
      },
      "execution_count": 7,
      "outputs": [
        {
          "output_type": "stream",
          "name": "stdout",
          "text": [
            "Requests with Session(): 4.53 seconds.\n"
          ]
        }
      ]
    },
    {
      "cell_type": "code",
      "source": [
        "def main_httpx():\n",
        "  pokemons = []\n",
        "  with httpx.Client() as client:\n",
        "    for number in range(1,151):\n",
        "      pokemon_url = f'https://pokeapi.co/api/v2/pokemon/{number}'\n",
        "      res = client.get(pokemon_url)\n",
        "      pokemons.append(res.json()['name'])"
      ],
      "metadata": {
        "id": "H69scmrjSOz5"
      },
      "execution_count": 8,
      "outputs": []
    },
    {
      "cell_type": "code",
      "source": [
        "start_time = time.time()\n",
        "main_httpx()\n",
        "print(f\"HTTPX with Client(): {time.time() - start_time :.2f} seconds.\")"
      ],
      "metadata": {
        "colab": {
          "base_uri": "https://localhost:8080/"
        },
        "id": "FVA7Z9-eSfEV",
        "outputId": "cf165346-cd38-4e1b-fa0c-3b130375a19e"
      },
      "execution_count": 9,
      "outputs": [
        {
          "output_type": "stream",
          "name": "stdout",
          "text": [
            "HTTPX with Client(): 4.53 seconds.\n"
          ]
        }
      ]
    },
    {
      "cell_type": "markdown",
      "source": [
        "- No improvement"
      ],
      "metadata": {
        "id": "0YpsmZ1QSvWL"
      }
    },
    {
      "cell_type": "markdown",
      "source": [
        "[Use async in wrong way]"
      ],
      "metadata": {
        "id": "7IcXmx8BTCP7"
      }
    },
    {
      "cell_type": "markdown",
      "source": [
        "- In the reference, the method below is a wrong way, but it is confirmed that the speed is improved."
      ],
      "metadata": {
        "id": "BMHhNzlwTptW"
      }
    },
    {
      "cell_type": "code",
      "source": [
        "import asyncio\n",
        "\n",
        "async def main1():\n",
        "  async with httpx.AsyncClient() as client:\n",
        "    pokemons = []\n",
        "    for number in range(1,151):\n",
        "      pokemon_url = f'https://pokeapi.co/api/v2/pokemon/{number}'\n",
        "      res = await client.get(pokemon_url)\n",
        "      pokemons.append(res.json()['name'])"
      ],
      "metadata": {
        "id": "bUebXamKTAs1"
      },
      "execution_count": 10,
      "outputs": []
    },
    {
      "cell_type": "code",
      "source": [
        "start_time = time.time()\n",
        "await main1()\n",
        "print(f\"HTTPX - asnyc main_1 with Client(): {time.time() - start_time :.2f} seconds.\")"
      ],
      "metadata": {
        "colab": {
          "base_uri": "https://localhost:8080/"
        },
        "id": "MR88ZakrTPRH",
        "outputId": "5f4dc95d-75d0-4d62-b16f-27f48169d929"
      },
      "execution_count": 11,
      "outputs": [
        {
          "output_type": "stream",
          "name": "stdout",
          "text": [
            "HTTPX - asnyc main_1 with Client(): 4.50 seconds.\n"
          ]
        }
      ]
    },
    {
      "cell_type": "markdown",
      "source": [
        "[better way]"
      ],
      "metadata": {
        "id": "KUUIXh1UVhAa"
      }
    },
    {
      "cell_type": "code",
      "source": [
        "async def get_pokemon(client, url):\n",
        "  res = await client.get(url)\n",
        "  return res.json()['name']"
      ],
      "metadata": {
        "id": "RoVKrRRdVecE"
      },
      "execution_count": 12,
      "outputs": []
    },
    {
      "cell_type": "code",
      "source": [
        "async def main2():\n",
        "  async with httpx.AsyncClient() as client:\n",
        "    tasks = []\n",
        "    for number in range(1,151):\n",
        "      pokemon_url = f'https://pokeapi.co/api/v2/pokemon/{number}'\n",
        "      tasks.append(asyncio.create_task(get_pokemon(client,pokemon_url)))\n",
        "    original_pokemon = await asyncio.gather(*tasks)"
      ],
      "metadata": {
        "id": "ZotsAu4LTcYe"
      },
      "execution_count": 13,
      "outputs": []
    },
    {
      "cell_type": "code",
      "source": [
        "start_time = time.time()\n",
        "await main2()\n",
        "print(f\"HTTPX - asnyc main_2 with Client(): {time.time() - start_time :.2f} seconds.\")"
      ],
      "metadata": {
        "colab": {
          "base_uri": "https://localhost:8080/"
        },
        "id": "ZOTO5AbyV-kK",
        "outputId": "03d20fbc-b9f0-4338-b9f0-75e9b0029302"
      },
      "execution_count": 14,
      "outputs": [
        {
          "output_type": "stream",
          "name": "stdout",
          "text": [
            "HTTPX - asnyc main_2 with Client(): 2.02 seconds.\n"
          ]
        }
      ]
    },
    {
      "cell_type": "markdown",
      "source": [
        "👍"
      ],
      "metadata": {
        "id": "0MPf_NYbW1ra"
      }
    }
  ]
}